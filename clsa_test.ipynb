{
 "cells": [
  {
   "cell_type": "code",
   "execution_count": null,
   "id": "a61aea27",
   "metadata": {},
   "outputs": [],
   "source": [
    "import pandas as pd\n",
    "import numpy as np\n",
    "import datetime\n",
    "from datetime import datetime as dt\n",
    "from pandas.tseries.offsets import BDay\n",
    "from scipy.linalg import pinv2\n",
    "import statsmodels.api as sm\n",
    "import matplotlib.pyplot as plt\n",
    "import itertools\n",
    "from functools import partial\n",
    "import gc\n",
    "import time\n",
    "import matplotlib.pyplot as plt \n",
    "import cufflinks as cf\n",
    "cf.go_offline()"
   ]
  },
  {
   "cell_type": "code",
   "execution_count": null,
   "id": "eb8153a6",
   "metadata": {},
   "outputs": [],
   "source": [
    "import yfinance as yf"
   ]
  },
  {
   "cell_type": "code",
   "execution_count": null,
   "id": "ebe1e411",
   "metadata": {},
   "outputs": [],
   "source": [
    "pd.set_option('display.max_rows', 30)\n",
    "pd.set_option('display.max_columns', 30)"
   ]
  },
  {
   "cell_type": "code",
   "execution_count": null,
   "id": "00e77d84",
   "metadata": {},
   "outputs": [],
   "source": [
    "def winsorize(data, quantile=0.01, axis=1):\n",
    "    \"\"\" aim to deal with outlier in distribution.\n",
    "    axis=1 for XS\n",
    "    axis=0 fot TS\n",
    "    \"\"\"\n",
    "    \n",
    "    quantiles = data.quantile(q=[quantile, 1-quantile], axis=axis)\n",
    "    \n",
    "    return data.clip(\n",
    "        lower=quantiles.iloc[0].dropna(),\n",
    "        upper=quantiles.iloc[1].dropna(),\n",
    "        axis=0 if axis==1 else 1,\n",
    "    )"
   ]
  },
  {
   "cell_type": "code",
   "execution_count": null,
   "id": "9be126c6",
   "metadata": {},
   "outputs": [],
   "source": []
  },
  {
   "cell_type": "markdown",
   "id": "b824df4c",
   "metadata": {},
   "source": [
    "### get data"
   ]
  },
  {
   "cell_type": "code",
   "execution_count": null,
   "id": "cc1ac67f",
   "metadata": {},
   "outputs": [],
   "source": [
    "# import the list of stocks which is saved to csv\n",
    "instrs = pd.read_csv('G:/sp100.csv', header=None)\n",
    "instrs = ' '.join(list(instrs[0].values))\n",
    "instrs"
   ]
  },
  {
   "cell_type": "code",
   "execution_count": null,
   "id": "8c86339d",
   "metadata": {},
   "outputs": [],
   "source": [
    "data = yf.download(instrs, start=\"2015-01-01\", end=\"2021-12-31\")\n",
    "data.sample(10)"
   ]
  },
  {
   "cell_type": "markdown",
   "id": "2ac9a31d",
   "metadata": {},
   "source": [
    "###### will need to check why BRK.B failed, but skip to save time"
   ]
  },
  {
   "cell_type": "code",
   "execution_count": null,
   "id": "8166a791",
   "metadata": {},
   "outputs": [],
   "source": [
    "data.notnull().sum(axis=1, level=0).iplot(title='some data is missing, and skip the data check for 2016 drop to save time')"
   ]
  },
  {
   "cell_type": "code",
   "execution_count": null,
   "id": "f02edf3d",
   "metadata": {},
   "outputs": [],
   "source": [
    "# # didn't find way to get daily update on marketcap, let's use the fixed one and use for whole sample\n",
    "# dict_marketcap = dict()\n",
    "# for stock in instrs.split(' '): \n",
    "#     dict_marketcap[stock] = yf.Ticker(stock).info['marketCap'] \n",
    "# dict_marketcap = pd.Series(dict_marketcap)"
   ]
  },
  {
   "cell_type": "markdown",
   "id": "4305d684",
   "metadata": {},
   "source": [
    "#### I download marketcap in another notebook and import here as it's too slow to download"
   ]
  },
  {
   "cell_type": "code",
   "execution_count": null,
   "id": "1a604b5e",
   "metadata": {},
   "outputs": [],
   "source": [
    "dict_marketcap = pd.read_csv('G:/marketcap.csv', header=None)\n",
    "dict_marketcap"
   ]
  },
  {
   "cell_type": "code",
   "execution_count": null,
   "id": "6f3b0e2c",
   "metadata": {},
   "outputs": [],
   "source": [
    "data = data.stack()\n",
    "data.index.names = ['date','stock_id']"
   ]
  },
  {
   "cell_type": "code",
   "execution_count": null,
   "id": "77c253bf",
   "metadata": {},
   "outputs": [],
   "source": [
    "data"
   ]
  },
  {
   "cell_type": "code",
   "execution_count": null,
   "id": "88da11df",
   "metadata": {},
   "outputs": [],
   "source": [
    "data = data.reset_index().merge(\n",
    "    dict_marketcap.rename(columns={0:'stock_id', 1:'marketcap'}), on='stock_id', how='left')\n",
    "data = data.set_index(['date','stock_id']).unstack()"
   ]
  },
  {
   "cell_type": "code",
   "execution_count": null,
   "id": "56223c46",
   "metadata": {},
   "outputs": [],
   "source": [
    "data.notnull().sum(axis=1, level=0).iplot(title='some data is missing but skip the data check to save time')"
   ]
  },
  {
   "cell_type": "code",
   "execution_count": null,
   "id": "10636d47",
   "metadata": {},
   "outputs": [],
   "source": [
    "data.columns.levels[0]"
   ]
  },
  {
   "cell_type": "code",
   "execution_count": null,
   "id": "1f7b9da9",
   "metadata": {},
   "outputs": [],
   "source": []
  },
  {
   "cell_type": "markdown",
   "id": "dd7d5eec",
   "metadata": {},
   "source": [
    "### clean data"
   ]
  },
  {
   "cell_type": "markdown",
   "id": "9c209476",
   "metadata": {},
   "source": [
    "####  describe, ditribution, in case of outlier"
   ]
  },
  {
   "cell_type": "code",
   "execution_count": null,
   "id": "feeb9e62",
   "metadata": {},
   "outputs": [],
   "source": [
    "data.stack().describe()"
   ]
  },
  {
   "cell_type": "code",
   "execution_count": null,
   "id": "6dc1fe61",
   "metadata": {},
   "outputs": [],
   "source": [
    "data.stack().hist(bins=100, figsize=(16,9))"
   ]
  },
  {
   "cell_type": "code",
   "execution_count": null,
   "id": "d4310ef2",
   "metadata": {},
   "outputs": [],
   "source": [
    "ret = data['Adj Close'].diff() / data['Adj Close'].shift(1)\n",
    "# assume volume is not adjusted\n",
    "turnover_ratio = ((data['Volume']*data['Close']) / data['marketcap']).clip(0, 1) "
   ]
  },
  {
   "cell_type": "code",
   "execution_count": null,
   "id": "7b50ed24",
   "metadata": {},
   "outputs": [],
   "source": [
    "ret.stack().hist(bins=100)"
   ]
  },
  {
   "cell_type": "code",
   "execution_count": null,
   "id": "06655a72",
   "metadata": {},
   "outputs": [],
   "source": [
    "# winsor ret, can be used in portfolio analysis, to see if the performance is driven by outlier\n",
    "ret_winsor = winsorize(ret)\n",
    "ret_winsor.stack().hist(bins=100)"
   ]
  },
  {
   "cell_type": "code",
   "execution_count": null,
   "id": "86bf8dfc",
   "metadata": {},
   "outputs": [],
   "source": [
    "turnover_ratio.stack().hist(bins=100)"
   ]
  },
  {
   "cell_type": "code",
   "execution_count": null,
   "id": "a2fdd764",
   "metadata": {},
   "outputs": [],
   "source": [
    "# prepare data to use\n",
    "data_used = {'ret':ret, 'ret_winsor': ret_winsor,'adjPrice': data['Adj Close'], 'turnover': turnover_ratio}"
   ]
  },
  {
   "cell_type": "code",
   "execution_count": null,
   "id": "a36f43c5",
   "metadata": {},
   "outputs": [],
   "source": [
    "pd.concat(\n",
    "    data_used, axis=1\n",
    ").notnull().sum(axis=1, level=0).iplot(title='some data is missing but skip the data check to save time')"
   ]
  },
  {
   "cell_type": "code",
   "execution_count": null,
   "id": "a0e36a1c",
   "metadata": {},
   "outputs": [],
   "source": []
  },
  {
   "attachments": {
    "image-3.png": {
     "image/png": "[encoded data removed]"
    }
   },
   "cell_type": "markdown",
   "id": "173ca182",
   "metadata": {},
   "source": [
    "### score definition\n",
    "    Motivation: \n",
    "    due to disposition effect, investors like to hold stocks they lose but close their postions too early when they gain\n",
    " \n",
    "    Reference:\n",
    "    https://www.nber.org/system/files/working_papers/w8734/w8734.pdf\n",
    "    \n",
    "    We can measure investors' reference price as equation (25) in the paper.\n",
    "![image-3.png](attachment:image-3.png)\n",
    "    the multiplier of price can be interpreted as the probablity that one share is traded at day t-n but not traded after that. In that sense, the reference price is a weighted averaged past price.\n",
    "    And the score is defined as:\n",
    "    \n",
    "    score = 1 - reference_price / price\n",
    "    \n",
    "    e.g., when current price is higher than reference_price, the irrational guys sell too early and price can still go up. Thus, we want to buy"
   ]
  },
  {
   "cell_type": "code",
   "execution_count": null,
   "id": "fac46d73",
   "metadata": {},
   "outputs": [],
   "source": [
    "class Disposition():\n",
    "    \n",
    "    def __init__(self, window, smooth):\n",
    "        \"\"\"param explain\n",
    "        \"\"\"\n",
    "        self.window = window\n",
    "        self.smooth = smooth\n",
    "        \n",
    "#         assert parameters ''\n",
    "        \n",
    "    def compute(self, data):\n",
    "        \n",
    "        turnover = data['turnover'] # can do some winsorize on turnover ratio\n",
    "        price = data['adjPrice']\n",
    "        \n",
    "        tur_price = turnover * price\n",
    "        one_minus_tur = (1 - turnover).fillna(1)\n",
    "        \n",
    "        reference_price = tur_price.copy()\n",
    "        one_minus_tur_prod = one_minus_tur.copy()\n",
    "        denorm = turnover\n",
    "        for i in range(1, self.window+1):\n",
    "            reference_price = reference_price.add(\n",
    "                one_minus_tur_prod * tur_price.shift(i), fill_value=0\n",
    "            )\n",
    "            denorm = denorm.add(\n",
    "                one_minus_tur_prod * turnover.shift(i), fill_value=0\n",
    "            )\n",
    "            one_minus_tur_prod *= one_minus_tur.shift(i)\n",
    "            \n",
    "        reference_price = reference_price / denorm\n",
    "\n",
    "        score = 1 - reference_price / price\n",
    "        \n",
    "        if self.smooth > 0:\n",
    "            score = score.ewm(self.smooth).mean()\n",
    "            \n",
    "        return score"
   ]
  },
  {
   "cell_type": "code",
   "execution_count": null,
   "id": "27903f95",
   "metadata": {},
   "outputs": [],
   "source": [
    "score = Disposition(window=252, smooth=0).compute(data=data_used)"
   ]
  },
  {
   "cell_type": "code",
   "execution_count": null,
   "id": "fe08ae98",
   "metadata": {},
   "outputs": [],
   "source": []
  },
  {
   "cell_type": "markdown",
   "id": "5c570cb8",
   "metadata": {},
   "source": [
    "### score analysis"
   ]
  },
  {
   "cell_type": "code",
   "execution_count": null,
   "id": "cd0d8313",
   "metadata": {},
   "outputs": [],
   "source": [
    "score.stack().describe()"
   ]
  },
  {
   "cell_type": "code",
   "execution_count": null,
   "id": "987b771e",
   "metadata": {},
   "outputs": [],
   "source": [
    "score.stack().hist(bins=100)"
   ]
  },
  {
   "cell_type": "code",
   "execution_count": null,
   "id": "029046bd",
   "metadata": {},
   "outputs": [],
   "source": [
    "score_winsored = winsorize(score)"
   ]
  },
  {
   "cell_type": "code",
   "execution_count": null,
   "id": "f329d9f1",
   "metadata": {},
   "outputs": [],
   "source": [
    "score_winsored.stack().hist(bins=100)"
   ]
  },
  {
   "cell_type": "markdown",
   "id": "d5c13595",
   "metadata": {},
   "source": [
    "### as the strategy is cross sectional long/short, we normalize the score"
   ]
  },
  {
   "cell_type": "code",
   "execution_count": null,
   "id": "2fbf75dd",
   "metadata": {},
   "outputs": [],
   "source": [
    "def normalize_rank(score):\n",
    "    \n",
    "    score = score.rank(axis=1)\n",
    "    score = score.subtract(score.min(axis=1), axis='index')\n",
    "    score = score.div(score.max(axis=1) - score.min(axis=1), axis='index')\n",
    "    # demean to be long short\n",
    "    score = score - 0.5\n",
    "    \n",
    "    return score"
   ]
  },
  {
   "cell_type": "code",
   "execution_count": null,
   "id": "261e5925",
   "metadata": {},
   "outputs": [],
   "source": [
    "norm_score = normalize_rank(score_winsored)"
   ]
  },
  {
   "cell_type": "code",
   "execution_count": null,
   "id": "bfb83d9a",
   "metadata": {},
   "outputs": [],
   "source": [
    "norm_score.stack().hist(bins=100)"
   ]
  },
  {
   "cell_type": "markdown",
   "id": "fe85282b",
   "metadata": {},
   "source": [
    " ### first look at the score vs forward (averaged return)\n",
    "    ideally, we want to look at the benchmark adjusted returns for a benchmark neutral strategy"
   ]
  },
  {
   "cell_type": "code",
   "execution_count": null,
   "id": "3ccf67c5",
   "metadata": {},
   "outputs": [],
   "source": [
    "def compute_score_vs_forward_returns(score, forward_returns, number_quantiles):\n",
    "    \n",
    "    forward_returns = forward_returns.reindex(score.index)\n",
    "    \n",
    "    horizons = list(np.sort(forward_returns.columns.get_level_values('horizon').unique()))\n",
    "    \n",
    "    df = {h: forward_returns[h] for h in horizons}\n",
    "    df['score'] = score\n",
    "    \n",
    "    df = pd.concat(df, axis=1).stack()\n",
    "    \n",
    "    # \n",
    "    bins = pd.qcut(df['score'].values, number_quantiles)\n",
    "    df['score_bin'] = bins.codes\n",
    "    \n",
    "    df = df.mask(df['score_bin'] < 0)\n",
    "    df['score_median'] = df.groupby('score_bin')['score'].transform(np.median)\n",
    "    \n",
    "    df = df.groupby('score_median')[horizons].mean()\n",
    "    return df"
   ]
  },
  {
   "cell_type": "code",
   "execution_count": null,
   "id": "7737c2a4",
   "metadata": {},
   "outputs": [],
   "source": [
    "forward_returns = pd.concat({w: winsorize(ret).rolling(w, w//2).mean() for w in [5, 10, 21, 63]}, axis=1)\n",
    "forward_returns.columns.names = ['horizon','stock_id']"
   ]
  },
  {
   "cell_type": "code",
   "execution_count": null,
   "id": "98ff9d29",
   "metadata": {},
   "outputs": [],
   "source": [
    "score_vs_forward_returns = compute_score_vs_forward_returns(norm_score, forward_returns, number_quantiles=10)\n",
    "score_vs_forward_returns.iplot(title='score vs forward return')"
   ]
  },
  {
   "cell_type": "code",
   "execution_count": null,
   "id": "2e34e473",
   "metadata": {},
   "outputs": [],
   "source": [
    "### can do more: score residualization on size, beta, sector dummies ...."
   ]
  },
  {
   "cell_type": "code",
   "execution_count": null,
   "id": "07ba52b5",
   "metadata": {},
   "outputs": [],
   "source": []
  },
  {
   "cell_type": "code",
   "execution_count": null,
   "id": "82cda3fa",
   "metadata": {},
   "outputs": [],
   "source": []
  },
  {
   "cell_type": "code",
   "execution_count": null,
   "id": "8ec1f8f0",
   "metadata": {},
   "outputs": [],
   "source": []
  },
  {
   "cell_type": "markdown",
   "id": "bc632e30",
   "metadata": {},
   "source": [
    "### portfolio construction"
   ]
  },
  {
   "cell_type": "markdown",
   "id": "4505ac28",
   "metadata": {},
   "source": [
    "###### first, we can simpply use the score as portfolio weights and scale the portfolio according to volaility"
   ]
  },
  {
   "cell_type": "code",
   "execution_count": null,
   "id": "a3cedfd0",
   "metadata": {},
   "outputs": [],
   "source": [
    "def simple_optimizer(score, ret):\n",
    "    \n",
    "    weights = score.copy()\n",
    "    \n",
    "    # each end of day, scale the weights according to short-term vol\n",
    "    pnl = (score.reindex_like(ret).shift(1) * ret).sum(axis=1)\n",
    "    # let say we want to 10% target vol\n",
    "    scaling = (\n",
    "        0.1 / (np.sqrt(252) * pnl.rolling(63, int(63/2)).std().replace(0,np.nan)))\n",
    "    \n",
    "    return score.mul(scaling, axis=0)"
   ]
  },
  {
   "cell_type": "code",
   "execution_count": null,
   "id": "9d6a9765",
   "metadata": {},
   "outputs": [],
   "source": [
    "weights = simple_optimizer(norm_score, ret)"
   ]
  },
  {
   "cell_type": "code",
   "execution_count": null,
   "id": "6677aac1",
   "metadata": {},
   "outputs": [],
   "source": [
    "weights.stack().hist(bins=100)"
   ]
  },
  {
   "cell_type": "markdown",
   "id": "44e5221f",
   "metadata": {},
   "source": [
    "### portfolio analysis"
   ]
  },
  {
   "cell_type": "code",
   "execution_count": null,
   "id": "75187b6c",
   "metadata": {},
   "outputs": [],
   "source": [
    "def compute_stats(weights, ret):\n",
    "    pnl = (weights.shift(1) * ret).sum(axis=1)\n",
    "\n",
    "    mean = pnl.mean()\n",
    "    std = pnl.std()\n",
    "    df_level = 100 * (1+pnl).cumprod()\n",
    "    \n",
    "    deviated_weight = (weights.shift() * (1+ ret)).div((1+ pnl), axis=0)\n",
    "    leverage = weights.abs().sum(axis=1)\n",
    "    \n",
    "    turnover = (weights - deviated_weight).abs().div(leverage, axis=0).sum(axis=1).mean() * 252\n",
    "    \n",
    "    return pnl, pd.Series({\n",
    "        'sharpe': np.sqrt(252) * mean / std,\n",
    "        'sharpe_1y': np.sqrt(252) * pnl.tail(252).mean() / pnl.tail(252).std(),\n",
    "        'sharpe_3y': np.sqrt(252) * pnl.tail(3*252).mean() / pnl.tail(3*252).std(),\n",
    "        'alpha': 252 * mean,\n",
    "        'stdev': np.sqrt(252) * std,\n",
    "        'tur/leverage': turnover,\n",
    "        'skew': pnl.skew(),\n",
    "        'wDD_5d': (df_level / df_level.shift(5) -1).min() /std/np.sqrt(252),\n",
    "        'wDD_22d': (df_level / df_level.shift(22) -1).min() /std/np.sqrt(252),\n",
    "        'wDD_all': (df_level / df_level.expanding().max() -1).min() /std/np.sqrt(252),\n",
    "    }).reindex(\n",
    "        ['sharpe','sharpe_1y','sharpe_3y','alpha','stdev','tur/leverage','skew','wDD_5d','wDD_22d','wDD_all'])"
   ]
  },
  {
   "cell_type": "code",
   "execution_count": null,
   "id": "f026e065",
   "metadata": {},
   "outputs": [],
   "source": [
    "dict_stats = dict()\n",
    "dict_pnl = dict()\n",
    "# check the performance with different lag (or smoothing) on the score\n",
    "for lag in [0, 3, 5, 10, 21, 63]:\n",
    "    _weight = simple_optimizer(norm_score.shift(lag), ret)\n",
    "    dict_pnl['lag%s'%lag], dict_stats['lag%s'%lag] = compute_stats(_weight, ret)"
   ]
  },
  {
   "cell_type": "code",
   "execution_count": null,
   "id": "a74d636a",
   "metadata": {},
   "outputs": [],
   "source": [
    "dict_pnl = pd.concat(dict_pnl, axis=1)\n",
    "dict_stats = pd.concat(dict_stats, axis=1).T\n",
    "\n",
    "dict_pnl.cumsum().iplot(title='performance at various lag')\n",
    "display(dict_stats.round(2))"
   ]
  },
  {
   "cell_type": "code",
   "execution_count": null,
   "id": "3e2d33f9",
   "metadata": {},
   "outputs": [],
   "source": [
    "sharp_decay = dict_stats.reset_index()\n",
    "sharp_decay['lag'] = sharp_decay['index'].apply(lambda x: int(x.split('lag')[1]))"
   ]
  },
  {
   "cell_type": "code",
   "execution_count": null,
   "id": "d0c9065d",
   "metadata": {},
   "outputs": [],
   "source": [
    "sharp_decay.set_index('lag')[['sharpe','sharpe_3y']].iplot(title='sharpe at different lags')"
   ]
  },
  {
   "cell_type": "code",
   "execution_count": null,
   "id": "bda80b91",
   "metadata": {},
   "outputs": [],
   "source": []
  },
  {
   "cell_type": "markdown",
   "id": "764f0516",
   "metadata": {},
   "source": [
    "## as the simple optimizer can not add constraint, we can use cvxpy to do a bit more"
   ]
  },
  {
   "cell_type": "markdown",
   "id": "4a46a483",
   "metadata": {},
   "source": [
    "### first, can do a little toy risk model, benchmark as simple averaged one"
   ]
  },
  {
   "cell_type": "code",
   "execution_count": null,
   "id": "80be20be",
   "metadata": {},
   "outputs": [],
   "source": [
    "benchmark = ret.notnull().div(ret.notnull().sum(axis=1), axis=0)\n",
    "benchmark"
   ]
  },
  {
   "cell_type": "code",
   "execution_count": null,
   "id": "ed4120ed",
   "metadata": {},
   "outputs": [],
   "source": [
    "# daily covariance\n",
    "covariance = (\n",
    "    ret.ewm(halflife=126, min_periods=63, adjust=True, ignore_na=True).cov()\n",
    ")"
   ]
  },
  {
   "cell_type": "markdown",
   "id": "39fa6677",
   "metadata": {},
   "source": [
    "##### risk model based on covariance\n",
    "    to save time, let me focus post 2020"
   ]
  },
  {
   "cell_type": "code",
   "execution_count": null,
   "id": "8b611d8f",
   "metadata": {},
   "outputs": [],
   "source": [
    "days = ret.loc['2020':].index\n",
    "days"
   ]
  },
  {
   "cell_type": "code",
   "execution_count": null,
   "id": "0373ca73",
   "metadata": {},
   "outputs": [],
   "source": [
    "def get_risk_model(date):\n",
    "    \n",
    "    dt_weight = benchmark.loc[date].fillna(0) \n",
    "    instr = dt_weight.index\n",
    "    \n",
    "    dt_cov = covariance.loc[date,].reindex(index=instr, columns=instr)\n",
    "    \n",
    "    # beta\n",
    "    dt_beta = (\n",
    "        dt_cov.dot(dt_weight) /\n",
    "        dt_weight.dot(dt_cov.fillna(0)).dot(dt_weight)\n",
    "    )\n",
    "    \n",
    "    dt_var = pd.Series(np.diagonal(dt_cov), index=dt_cov.index)\n",
    "    \n",
    "    dt_cov = dt_cov.stack()\n",
    "    dt_cov.index.names = ['stock_id1','stock_id2']\n",
    "    \n",
    "    return date, dt_cov, dt_beta, dt_var"
   ]
  },
  {
   "cell_type": "code",
   "execution_count": null,
   "id": "e7091174",
   "metadata": {},
   "outputs": [],
   "source": [
    "dict_beta = {}\n",
    "dict_cov = {}\n",
    "dict_var = {}\n",
    "for day in days:\n",
    "    _, dt_cov, dt_beta, dt_var = get_risk_model(day)\n",
    "    dict_beta[day] = dt_beta\n",
    "    dict_cov[day] = dt_cov\n",
    "    dict_var[day] = dt_var"
   ]
  },
  {
   "cell_type": "code",
   "execution_count": null,
   "id": "c4ce58d8",
   "metadata": {},
   "outputs": [],
   "source": [
    "df_beta = pd.concat(dict_beta, axis=1).T.dropna(how='all')\n",
    "df_var = pd.concat(dict_var, axis=1).T.dropna(how='all')"
   ]
  },
  {
   "cell_type": "code",
   "execution_count": null,
   "id": "5077eb27",
   "metadata": {},
   "outputs": [],
   "source": [
    "df_beta.mean(axis=1).iplot(title='average beta should be round 1')"
   ]
  },
  {
   "cell_type": "code",
   "execution_count": null,
   "id": "f3afdf6d",
   "metadata": {},
   "outputs": [],
   "source": [
    "df_var.notnull().sum(axis=1).iplot()"
   ]
  },
  {
   "cell_type": "code",
   "execution_count": null,
   "id": "3c67dba6",
   "metadata": {},
   "outputs": [],
   "source": [
    "risk_model = {}\n",
    "risk_model['beta'] = df_beta.reindex(\n",
    "    index=pd.bdate_range(df_beta.index.min(), df_beta.index.max())).ffill(limit=63).reindex_like(ret).fillna(0)\n",
    "risk_model['volatility'] = np.sqrt(df_var).reindex(\n",
    "    index=pd.bdate_range(df_var.index.min(), df_var.index.max())).ffill(limit=63).reindex_like(ret)\n",
    "risk_model['covariance'] = {\n",
    "    day: cov.unstack('stock_id2').reindex(\n",
    "        index=risk_model['beta'].loc[day].index, columns=risk_model['beta'].loc[day].index).fillna(0) \n",
    "    for day, cov in dict_cov.items()\n",
    "}"
   ]
  },
  {
   "cell_type": "code",
   "execution_count": null,
   "id": "2795eccf",
   "metadata": {},
   "outputs": [],
   "source": [
    "risk_model['beta']"
   ]
  },
  {
   "cell_type": "code",
   "execution_count": null,
   "id": "f3c4d05d",
   "metadata": {},
   "outputs": [],
   "source": [
    "risk_model['volatility']"
   ]
  },
  {
   "cell_type": "code",
   "execution_count": null,
   "id": "113ce63d",
   "metadata": {},
   "outputs": [],
   "source": [
    "risk_model['covariance'][list(risk_model['covariance'].keys())[10]]"
   ]
  },
  {
   "cell_type": "code",
   "execution_count": null,
   "id": "d7e08167",
   "metadata": {},
   "outputs": [],
   "source": [
    "# get a sense of market vol\n",
    "(risk_model['volatility']**2 * 252).mean(axis=1).iplot()"
   ]
  },
  {
   "cell_type": "markdown",
   "id": "09b262ba",
   "metadata": {},
   "source": [
    "### Second, optimizer with cvxpy"
   ]
  },
  {
   "cell_type": "code",
   "execution_count": null,
   "id": "6709e27d",
   "metadata": {},
   "outputs": [],
   "source": [
    "import cvxpy as cvx"
   ]
  },
  {
   "cell_type": "code",
   "execution_count": null,
   "id": "f1276ab0",
   "metadata": {},
   "outputs": [],
   "source": [
    "def solver(n, mu, dt_beta, dt_cov,\n",
    "           min_dollar, max_dollar,\n",
    "           min_beta, max_beta, \n",
    "           min_weights, max_weights, leverage, target_vol):\n",
    "    \n",
    "    w = cvx.Variable(n)\n",
    "\n",
    "    ret = cvx.sum(cvx.multiply(mu, w))\n",
    "    vol = cvx.quad_form(w, dt_cov)\n",
    "    beta = cvx.sum(cvx.multiply(dt_beta, w))\n",
    "    \n",
    "\n",
    "    objective = cvx.Maximize(ret)\n",
    "    constraints = [cvx.sum(w) <= max_dollar, cvx.sum(w) >= min_dollar, \n",
    "                   min_beta<=beta, beta<= max_beta,\n",
    "                   cvx.sum(cvx.abs(w)) <= leverage, \n",
    "                   cvx.max(w) <= max_weights, cvx.min(w) >= min_weights, \n",
    "                   vol * 252 <= target_vol]\n",
    "    prob = cvx.Problem(objective, constraints)\n",
    "    \n",
    "    prob.solve(verbose=False)\n",
    "    \n",
    "    return w.value\n",
    "\n",
    "\n",
    "def cvxpy_optimizer(score, days, df_beta, df_cov, target_vol=0.1, \n",
    "                    max_dollar=0.05, min_dollar=-0.05,\n",
    "                    max_beta=0.1, min_beta=-0.1, \n",
    "                    min_weights=-0.1, max_weights=0.1, leverage=3):\n",
    "    \n",
    "    dict_weights = {}\n",
    "    \n",
    "    for day in days:\n",
    "        \n",
    "        instr = ret.notnull().loc[day]\n",
    "        instr = instr[instr].index\n",
    "        # naively fillna(0), in practice need to check more\n",
    "        mu = score.loc[day, instr].reindex(instr).fillna(0).values\n",
    "        dt_beta = df_beta.loc[day, instr].reindex(instr).fillna(0).values\n",
    "        dt_cov = df_cov[day].reindex(index=instr, columns=instr).fillna(0).values\n",
    "        \n",
    "        try:\n",
    "            weights = solver(len(instr), mu, dt_beta, dt_cov,\n",
    "                             min_dollar, max_dollar,\n",
    "                             min_beta, max_beta, min_weights, max_weights, leverage, target_vol)\n",
    "            dict_weights[day] = pd.Series(weights, index=instr)\n",
    "        except:\n",
    "            print('fail on %s'%day)\n",
    "            \n",
    "    return dict_weights"
   ]
  },
  {
   "cell_type": "code",
   "execution_count": null,
   "id": "cc593a47",
   "metadata": {
    "scrolled": true
   },
   "outputs": [],
   "source": [
    "weight_cvxpy = cvxpy_optimizer(\n",
    "    score=norm_score, days=days, df_beta=risk_model['beta'], df_cov=risk_model['covariance'])\n",
    "weight_cvxpy = pd.concat(weight_cvxpy, axis=1).T.reindex_like(ret).loc['2020':]"
   ]
  },
  {
   "cell_type": "code",
   "execution_count": null,
   "id": "a106a646",
   "metadata": {},
   "outputs": [],
   "source": [
    "weight_cvxpy.stack().hist(bins=100)"
   ]
  },
  {
   "cell_type": "markdown",
   "id": "cf966e39",
   "metadata": {},
   "source": [
    "### lots of days the optimizer fails to converge \n",
    "    Here ths issue can be mostly in the covaraince matrix.\n",
    "    In practice if we have a good and stable cov, we can relax a bit the constrains and redo the optimizer\n",
    "    Here, I will just do the filering and ffill the correct position in this test"
   ]
  },
  {
   "cell_type": "code",
   "execution_count": null,
   "id": "716c21b3",
   "metadata": {},
   "outputs": [],
   "source": [
    "weight_cvxpy.count(axis=1).iplot()"
   ]
  },
  {
   "cell_type": "code",
   "execution_count": null,
   "id": "167e49bf",
   "metadata": {},
   "outputs": [],
   "source": [
    "### check postions\n",
    "weight_cvxpy.sum(axis=1).iplot(title='net dollar exposure')\n",
    "weight_cvxpy.abs().sum(axis=1).iplot(title='gross dollar exposure, leverage')\n",
    "pd.concat({'max':weight_cvxpy.max(axis=1),'min':weight_cvxpy.min(axis=1),}, axis=1).iplot(title='max and min')"
   ]
  },
  {
   "cell_type": "code",
   "execution_count": null,
   "id": "12ea2d58",
   "metadata": {},
   "outputs": [],
   "source": [
    "weight_cvxpy = weight_cvxpy.reindex_like(ret).loc['2020':].ffill()"
   ]
  },
  {
   "cell_type": "code",
   "execution_count": null,
   "id": "86e03a63",
   "metadata": {},
   "outputs": [],
   "source": [
    "weight_cvxpy"
   ]
  },
  {
   "cell_type": "code",
   "execution_count": null,
   "id": "e42311d8",
   "metadata": {},
   "outputs": [],
   "source": [
    "dict_stats = dict()\n",
    "dict_pnl = dict()\n",
    "# check the performance with different lag (or smoothing) on the score\n",
    "for lag in [0, 3, 5, 10, 21]:\n",
    "    dict_pnl['lag%s'%lag], dict_stats['lag%s'%lag] = compute_stats(weight_cvxpy.shift(lag), ret.loc['2020':])"
   ]
  },
  {
   "cell_type": "code",
   "execution_count": null,
   "id": "6c5aa6cb",
   "metadata": {},
   "outputs": [],
   "source": [
    "dict_pnl = pd.concat(dict_pnl, axis=1)\n",
    "dict_stats = pd.concat(dict_stats, axis=1).T\n",
    "\n",
    "dict_pnl.cumsum().iplot(title='performance at various lag')\n",
    "display(dict_stats.round(2))"
   ]
  },
  {
   "cell_type": "code",
   "execution_count": null,
   "id": "95032c5d",
   "metadata": {},
   "outputs": [],
   "source": [
    "### you can see a big difference between the realized stdev and target vol, this is due to the covaraince matrix estimation"
   ]
  },
  {
   "cell_type": "code",
   "execution_count": null,
   "id": "e3b5a4e3",
   "metadata": {},
   "outputs": [],
   "source": []
  },
  {
   "cell_type": "code",
   "execution_count": null,
   "id": "4e598a1e",
   "metadata": {},
   "outputs": [],
   "source": []
  },
  {
   "cell_type": "markdown",
   "id": "273bd3c1",
   "metadata": {},
   "source": [
    "### furthur more, can introduce the turnover in to objective function or add turnover, min_trade constraint\n",
    "    turnover = (optimized_weights - current_position).abs().sum(axis=1)\n",
    "    \n",
    "    and thus objective function becomes: \n",
    "    \n",
    "    objective = cvx.Maximize(ret - lambda * turnover)\n",
    "    \n",
    "    and need to calibrate lambda in practice to look at the trade of net performance vs turnover over different lambdas"
   ]
  },
  {
   "cell_type": "code",
   "execution_count": null,
   "id": "4d0a36b5",
   "metadata": {},
   "outputs": [],
   "source": []
  },
  {
   "cell_type": "code",
   "execution_count": null,
   "id": "8c204e39",
   "metadata": {},
   "outputs": [],
   "source": []
  }
 ],
 "metadata": {
  "kernelspec": {
   "display_name": "Python 3",
   "language": "python",
   "name": "python3"
  },
  "language_info": {
   "codemirror_mode": {
    "name": "ipython",
    "version": 3
   },
   "file_extension": ".py",
   "mimetype": "text/x-python",
   "name": "python",
   "nbconvert_exporter": "python",
   "pygments_lexer": "ipython3",
   "version": "3.8.8"
  }
 },
 "nbformat": 4,
 "nbformat_minor": 5
}
